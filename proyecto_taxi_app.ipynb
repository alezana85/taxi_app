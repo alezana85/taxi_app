{
 "cells": [
  {
   "cell_type": "markdown",
   "metadata": {},
   "source": [
    "## Introduccion\n",
    "\n",
    "### Limpieza de la base de datos previo al analisis (SQL)\n",
    "  - Se analizaron los datos del clima de Chicago en el año del 2017.\n",
    "  - Se encontro el numero de viajes para cada compañia de taxis del 15 y 16 de noviembre de 2017.\n",
    "  - Se agrupo por nommbre de compañia y cantidad de viajes.\n",
    " \n",
    "### Analisis de DataFrames (Python)\n",
    "  - Como anteriormente se procedio a realizar el analisis y limpieza de datos en SQL procedemos a verificar eltipo de datos que contiene cada DataFrame para segurarnos que no existan valores ausentos o nulos.\n",
    "  \n",
    "### Analizar el promedio de los viajes por cada compañia de taxis\n",
    "  - Con la finalidad de ver cual es la compañia con mayor promedio de viajes.\n",
    "  - Se analizaran las 10 mejores compañias con el mejor promedio de viajes.\n",
    "  - Se analizara las 25 compañias que han realizado mas viajes.\n",
    " \n",
    "### Graficacion de los DataFrames\n",
    "  - Se realizaran 2 graficas para el DataFrame con las 10 compañias con el mejor promedio en viajes y la de las 25 compañias con mayor numero de viajes con la finalidad de tener una mejor visualizacion de los datos.\n",
    "  \n",
    "### Hipotesis\n",
    "  - De acuerdo al DataFrame donde analizamos el clima realizaremos nuestra hipotesis nula (H0), donde la duración promedio de los viajes desde el Loop hasta el Aeropuerto Internacional O'Hare cambia los dias lluviosos."
   ]
  },
  {
   "cell_type": "markdown",
   "metadata": {},
   "source": [
    "## Importacion de librerias"
   ]
  },
  {
   "cell_type": "code",
   "execution_count": 1,
   "metadata": {},
   "outputs": [],
   "source": [
    "# Importar las librerías necesarias\n",
    "import pandas as pd\n",
    "import requests\n",
    "from bs4 import BeautifulSoup\n",
    "import matplotlib.pyplot as plt\n",
    "import numpy as np\n",
    "from scipy import stats as st\n",
    "import psycopg2"
   ]
  },
  {
   "cell_type": "markdown",
   "metadata": {},
   "source": [
    "### Importacion de archivos csv"
   ]
  },
  {
   "cell_type": "code",
   "execution_count": 2,
   "metadata": {},
   "outputs": [],
   "source": [
    "# Importar los archivos\n",
    "df1 = pd.read_csv(\"/datasets/project_sql_result_01.csv\")\n",
    "df2 = pd.read_csv(\"/datasets/project_sql_result_04.csv\")\n",
    "df3 = pd.read_csv(\"/datasets/project_sql_result_07.csv\")"
   ]
  },
  {
   "cell_type": "markdown",
   "metadata": {},
   "source": [
    "## Analisis y limpieza de los DataFrames"
   ]
  },
  {
   "cell_type": "markdown",
   "metadata": {},
   "source": [
    "### DataFrame 1: Trips Amount"
   ]
  },
  {
   "cell_type": "code",
   "execution_count": 3,
   "metadata": {},
   "outputs": [
    {
     "name": "stdout",
     "output_type": "stream",
     "text": [
      "<class 'pandas.core.frame.DataFrame'>\n",
      "RangeIndex: 64 entries, 0 to 63\n",
      "Data columns (total 2 columns):\n",
      " #   Column        Non-Null Count  Dtype \n",
      "---  ------        --------------  ----- \n",
      " 0   company_name  64 non-null     object\n",
      " 1   trips_amount  64 non-null     int64 \n",
      "dtypes: int64(1), object(1)\n",
      "memory usage: 1.1+ KB\n"
     ]
    }
   ],
   "source": [
    "# Se inicia con la exploracion de cada uno de lo DataFrame para anlizar los datos que contienen\n",
    "# Analizar DataFrame df1\n",
    "df1.info()"
   ]
  },
  {
   "cell_type": "code",
   "execution_count": 4,
   "metadata": {},
   "outputs": [
    {
     "data": {
      "text/html": [
       "<div>\n",
       "<style scoped>\n",
       "    .dataframe tbody tr th:only-of-type {\n",
       "        vertical-align: middle;\n",
       "    }\n",
       "\n",
       "    .dataframe tbody tr th {\n",
       "        vertical-align: top;\n",
       "    }\n",
       "\n",
       "    .dataframe thead th {\n",
       "        text-align: right;\n",
       "    }\n",
       "</style>\n",
       "<table border=\"1\" class=\"dataframe\">\n",
       "  <thead>\n",
       "    <tr style=\"text-align: right;\">\n",
       "      <th></th>\n",
       "      <th>company_name</th>\n",
       "      <th>trips_amount</th>\n",
       "    </tr>\n",
       "  </thead>\n",
       "  <tbody>\n",
       "  </tbody>\n",
       "</table>\n",
       "</div>"
      ],
      "text/plain": [
       "Empty DataFrame\n",
       "Columns: [company_name, trips_amount]\n",
       "Index: []"
      ]
     },
     "execution_count": 4,
     "metadata": {},
     "output_type": "execute_result"
    }
   ],
   "source": [
    "# Buscar valores duplicados en df1\n",
    "duplicates = df1.duplicated()\n",
    "df1[duplicates]"
   ]
  },
  {
   "cell_type": "code",
   "execution_count": 5,
   "metadata": {},
   "outputs": [
    {
     "data": {
      "text/plain": [
       "company_name    0\n",
       "trips_amount    0\n",
       "dtype: int64"
      ]
     },
     "execution_count": 5,
     "metadata": {},
     "output_type": "execute_result"
    }
   ],
   "source": [
    "# Buscar valores nulos en df1\n",
    "nulls = df1.isnull().sum()\n",
    "nulls\n"
   ]
  },
  {
   "cell_type": "code",
   "execution_count": 6,
   "metadata": {},
   "outputs": [
    {
     "data": {
      "text/html": [
       "<div>\n",
       "<style scoped>\n",
       "    .dataframe tbody tr th:only-of-type {\n",
       "        vertical-align: middle;\n",
       "    }\n",
       "\n",
       "    .dataframe tbody tr th {\n",
       "        vertical-align: top;\n",
       "    }\n",
       "\n",
       "    .dataframe thead th {\n",
       "        text-align: right;\n",
       "    }\n",
       "</style>\n",
       "<table border=\"1\" class=\"dataframe\">\n",
       "  <thead>\n",
       "    <tr style=\"text-align: right;\">\n",
       "      <th></th>\n",
       "      <th>company_name</th>\n",
       "      <th>trips_amount</th>\n",
       "    </tr>\n",
       "  </thead>\n",
       "  <tbody>\n",
       "    <tr>\n",
       "      <th>0</th>\n",
       "      <td>Flash Cab</td>\n",
       "      <td>19558</td>\n",
       "    </tr>\n",
       "    <tr>\n",
       "      <th>1</th>\n",
       "      <td>Taxi Affiliation Services</td>\n",
       "      <td>11422</td>\n",
       "    </tr>\n",
       "    <tr>\n",
       "      <th>2</th>\n",
       "      <td>Medallion Leasing</td>\n",
       "      <td>10367</td>\n",
       "    </tr>\n",
       "    <tr>\n",
       "      <th>3</th>\n",
       "      <td>Yellow Cab</td>\n",
       "      <td>9888</td>\n",
       "    </tr>\n",
       "    <tr>\n",
       "      <th>4</th>\n",
       "      <td>Taxi Affiliation Service Yellow</td>\n",
       "      <td>9299</td>\n",
       "    </tr>\n",
       "    <tr>\n",
       "      <th>...</th>\n",
       "      <td>...</td>\n",
       "      <td>...</td>\n",
       "    </tr>\n",
       "    <tr>\n",
       "      <th>59</th>\n",
       "      <td>4053 - 40193 Adwar H. Nikola</td>\n",
       "      <td>7</td>\n",
       "    </tr>\n",
       "    <tr>\n",
       "      <th>60</th>\n",
       "      <td>2733 - 74600 Benny Jona</td>\n",
       "      <td>7</td>\n",
       "    </tr>\n",
       "    <tr>\n",
       "      <th>61</th>\n",
       "      <td>5874 - 73628 Sergey Cab Corp.</td>\n",
       "      <td>5</td>\n",
       "    </tr>\n",
       "    <tr>\n",
       "      <th>62</th>\n",
       "      <td>2241 - 44667 - Felman Corp</td>\n",
       "      <td>3</td>\n",
       "    </tr>\n",
       "    <tr>\n",
       "      <th>63</th>\n",
       "      <td>3556 - 36214 RC Andrews Cab</td>\n",
       "      <td>2</td>\n",
       "    </tr>\n",
       "  </tbody>\n",
       "</table>\n",
       "<p>64 rows × 2 columns</p>\n",
       "</div>"
      ],
      "text/plain": [
       "                       company_name  trips_amount\n",
       "0                         Flash Cab         19558\n",
       "1         Taxi Affiliation Services         11422\n",
       "2                 Medallion Leasing         10367\n",
       "3                        Yellow Cab          9888\n",
       "4   Taxi Affiliation Service Yellow          9299\n",
       "..                              ...           ...\n",
       "59     4053 - 40193 Adwar H. Nikola             7\n",
       "60          2733 - 74600 Benny Jona             7\n",
       "61    5874 - 73628 Sergey Cab Corp.             5\n",
       "62       2241 - 44667 - Felman Corp             3\n",
       "63      3556 - 36214 RC Andrews Cab             2\n",
       "\n",
       "[64 rows x 2 columns]"
      ]
     },
     "metadata": {},
     "output_type": "display_data"
    }
   ],
   "source": [
    "# Estudiar los datos que contienen df1\n",
    "display(df1)"
   ]
  },
  {
   "cell_type": "code",
   "execution_count": 7,
   "metadata": {},
   "outputs": [
    {
     "data": {
      "text/html": [
       "<div>\n",
       "<style scoped>\n",
       "    .dataframe tbody tr th:only-of-type {\n",
       "        vertical-align: middle;\n",
       "    }\n",
       "\n",
       "    .dataframe tbody tr th {\n",
       "        vertical-align: top;\n",
       "    }\n",
       "\n",
       "    .dataframe thead th {\n",
       "        text-align: right;\n",
       "    }\n",
       "</style>\n",
       "<table border=\"1\" class=\"dataframe\">\n",
       "  <thead>\n",
       "    <tr style=\"text-align: right;\">\n",
       "      <th></th>\n",
       "      <th>trips_amount</th>\n",
       "    </tr>\n",
       "  </thead>\n",
       "  <tbody>\n",
       "    <tr>\n",
       "      <th>count</th>\n",
       "      <td>64.000000</td>\n",
       "    </tr>\n",
       "    <tr>\n",
       "      <th>mean</th>\n",
       "      <td>2145.484375</td>\n",
       "    </tr>\n",
       "    <tr>\n",
       "      <th>std</th>\n",
       "      <td>3812.310186</td>\n",
       "    </tr>\n",
       "    <tr>\n",
       "      <th>min</th>\n",
       "      <td>2.000000</td>\n",
       "    </tr>\n",
       "    <tr>\n",
       "      <th>25%</th>\n",
       "      <td>20.750000</td>\n",
       "    </tr>\n",
       "    <tr>\n",
       "      <th>50%</th>\n",
       "      <td>178.500000</td>\n",
       "    </tr>\n",
       "    <tr>\n",
       "      <th>75%</th>\n",
       "      <td>2106.500000</td>\n",
       "    </tr>\n",
       "    <tr>\n",
       "      <th>max</th>\n",
       "      <td>19558.000000</td>\n",
       "    </tr>\n",
       "  </tbody>\n",
       "</table>\n",
       "</div>"
      ],
      "text/plain": [
       "       trips_amount\n",
       "count     64.000000\n",
       "mean    2145.484375\n",
       "std     3812.310186\n",
       "min        2.000000\n",
       "25%       20.750000\n",
       "50%      178.500000\n",
       "75%     2106.500000\n",
       "max    19558.000000"
      ]
     },
     "execution_count": 7,
     "metadata": {},
     "output_type": "execute_result"
    }
   ],
   "source": [
    "df1.describe()"
   ]
  },
  {
   "cell_type": "markdown",
   "metadata": {},
   "source": [
    "El df1 tiene 2 columnas \n",
    "  - `company_name`: nombre de la empresa de taxis.\n",
    "  - `trip-amount`:  el número de viajes de cada compañía de taxis el 15 y 16 de noviembre de 2017. \n",
    " \n",
    "El DataFrame tiene 64 indices de los cuales no contienen valores ausentes ni tampoco tiene duplicados."
   ]
  },
  {
   "cell_type": "markdown",
   "metadata": {},
   "source": [
    "### DataFrame 2: Average Trips"
   ]
  },
  {
   "cell_type": "code",
   "execution_count": 8,
   "metadata": {},
   "outputs": [
    {
     "name": "stdout",
     "output_type": "stream",
     "text": [
      "<class 'pandas.core.frame.DataFrame'>\n",
      "RangeIndex: 94 entries, 0 to 93\n",
      "Data columns (total 2 columns):\n",
      " #   Column                 Non-Null Count  Dtype  \n",
      "---  ------                 --------------  -----  \n",
      " 0   dropoff_location_name  94 non-null     object \n",
      " 1   average_trips          94 non-null     float64\n",
      "dtypes: float64(1), object(1)\n",
      "memory usage: 1.6+ KB\n"
     ]
    }
   ],
   "source": [
    "# Analizar df2\n",
    "df2.info()"
   ]
  },
  {
   "cell_type": "code",
   "execution_count": 9,
   "metadata": {},
   "outputs": [
    {
     "data": {
      "text/html": [
       "<div>\n",
       "<style scoped>\n",
       "    .dataframe tbody tr th:only-of-type {\n",
       "        vertical-align: middle;\n",
       "    }\n",
       "\n",
       "    .dataframe tbody tr th {\n",
       "        vertical-align: top;\n",
       "    }\n",
       "\n",
       "    .dataframe thead th {\n",
       "        text-align: right;\n",
       "    }\n",
       "</style>\n",
       "<table border=\"1\" class=\"dataframe\">\n",
       "  <thead>\n",
       "    <tr style=\"text-align: right;\">\n",
       "      <th></th>\n",
       "      <th>dropoff_location_name</th>\n",
       "      <th>average_trips</th>\n",
       "    </tr>\n",
       "  </thead>\n",
       "  <tbody>\n",
       "  </tbody>\n",
       "</table>\n",
       "</div>"
      ],
      "text/plain": [
       "Empty DataFrame\n",
       "Columns: [dropoff_location_name, average_trips]\n",
       "Index: []"
      ]
     },
     "execution_count": 9,
     "metadata": {},
     "output_type": "execute_result"
    }
   ],
   "source": [
    "# Buscar valores duplicados en df2\n",
    "duplicates = df2.duplicated()\n",
    "df2[duplicates]\n"
   ]
  },
  {
   "cell_type": "code",
   "execution_count": 10,
   "metadata": {},
   "outputs": [
    {
     "data": {
      "text/plain": [
       "dropoff_location_name    0\n",
       "average_trips            0\n",
       "dtype: int64"
      ]
     },
     "execution_count": 10,
     "metadata": {},
     "output_type": "execute_result"
    }
   ],
   "source": [
    "# Buscar valores nulos en df2\n",
    "nulls = df2.isnull().sum()\n",
    "nulls"
   ]
  },
  {
   "cell_type": "code",
   "execution_count": 11,
   "metadata": {},
   "outputs": [
    {
     "data": {
      "text/html": [
       "<div>\n",
       "<style scoped>\n",
       "    .dataframe tbody tr th:only-of-type {\n",
       "        vertical-align: middle;\n",
       "    }\n",
       "\n",
       "    .dataframe tbody tr th {\n",
       "        vertical-align: top;\n",
       "    }\n",
       "\n",
       "    .dataframe thead th {\n",
       "        text-align: right;\n",
       "    }\n",
       "</style>\n",
       "<table border=\"1\" class=\"dataframe\">\n",
       "  <thead>\n",
       "    <tr style=\"text-align: right;\">\n",
       "      <th></th>\n",
       "      <th>dropoff_location_name</th>\n",
       "      <th>average_trips</th>\n",
       "    </tr>\n",
       "  </thead>\n",
       "  <tbody>\n",
       "    <tr>\n",
       "      <th>0</th>\n",
       "      <td>Loop</td>\n",
       "      <td>10727.466667</td>\n",
       "    </tr>\n",
       "    <tr>\n",
       "      <th>1</th>\n",
       "      <td>River North</td>\n",
       "      <td>9523.666667</td>\n",
       "    </tr>\n",
       "    <tr>\n",
       "      <th>2</th>\n",
       "      <td>Streeterville</td>\n",
       "      <td>6664.666667</td>\n",
       "    </tr>\n",
       "    <tr>\n",
       "      <th>3</th>\n",
       "      <td>West Loop</td>\n",
       "      <td>5163.666667</td>\n",
       "    </tr>\n",
       "    <tr>\n",
       "      <th>4</th>\n",
       "      <td>O'Hare</td>\n",
       "      <td>2546.900000</td>\n",
       "    </tr>\n",
       "    <tr>\n",
       "      <th>...</th>\n",
       "      <td>...</td>\n",
       "      <td>...</td>\n",
       "    </tr>\n",
       "    <tr>\n",
       "      <th>89</th>\n",
       "      <td>Mount Greenwood</td>\n",
       "      <td>3.137931</td>\n",
       "    </tr>\n",
       "    <tr>\n",
       "      <th>90</th>\n",
       "      <td>Hegewisch</td>\n",
       "      <td>3.117647</td>\n",
       "    </tr>\n",
       "    <tr>\n",
       "      <th>91</th>\n",
       "      <td>Burnside</td>\n",
       "      <td>2.333333</td>\n",
       "    </tr>\n",
       "    <tr>\n",
       "      <th>92</th>\n",
       "      <td>East Side</td>\n",
       "      <td>1.961538</td>\n",
       "    </tr>\n",
       "    <tr>\n",
       "      <th>93</th>\n",
       "      <td>Riverdale</td>\n",
       "      <td>1.800000</td>\n",
       "    </tr>\n",
       "  </tbody>\n",
       "</table>\n",
       "<p>94 rows × 2 columns</p>\n",
       "</div>"
      ],
      "text/plain": [
       "   dropoff_location_name  average_trips\n",
       "0                   Loop   10727.466667\n",
       "1            River North    9523.666667\n",
       "2          Streeterville    6664.666667\n",
       "3              West Loop    5163.666667\n",
       "4                 O'Hare    2546.900000\n",
       "..                   ...            ...\n",
       "89       Mount Greenwood       3.137931\n",
       "90             Hegewisch       3.117647\n",
       "91              Burnside       2.333333\n",
       "92             East Side       1.961538\n",
       "93             Riverdale       1.800000\n",
       "\n",
       "[94 rows x 2 columns]"
      ]
     },
     "metadata": {},
     "output_type": "display_data"
    }
   ],
   "source": [
    "# Estudiar los datos que contienen df2\n",
    "display(df2)"
   ]
  },
  {
   "cell_type": "code",
   "execution_count": 12,
   "metadata": {},
   "outputs": [
    {
     "data": {
      "text/html": [
       "<div>\n",
       "<style scoped>\n",
       "    .dataframe tbody tr th:only-of-type {\n",
       "        vertical-align: middle;\n",
       "    }\n",
       "\n",
       "    .dataframe tbody tr th {\n",
       "        vertical-align: top;\n",
       "    }\n",
       "\n",
       "    .dataframe thead th {\n",
       "        text-align: right;\n",
       "    }\n",
       "</style>\n",
       "<table border=\"1\" class=\"dataframe\">\n",
       "  <thead>\n",
       "    <tr style=\"text-align: right;\">\n",
       "      <th></th>\n",
       "      <th>average_trips</th>\n",
       "    </tr>\n",
       "  </thead>\n",
       "  <tbody>\n",
       "    <tr>\n",
       "      <th>count</th>\n",
       "      <td>94.000000</td>\n",
       "    </tr>\n",
       "    <tr>\n",
       "      <th>mean</th>\n",
       "      <td>599.953728</td>\n",
       "    </tr>\n",
       "    <tr>\n",
       "      <th>std</th>\n",
       "      <td>1714.591098</td>\n",
       "    </tr>\n",
       "    <tr>\n",
       "      <th>min</th>\n",
       "      <td>1.800000</td>\n",
       "    </tr>\n",
       "    <tr>\n",
       "      <th>25%</th>\n",
       "      <td>14.266667</td>\n",
       "    </tr>\n",
       "    <tr>\n",
       "      <th>50%</th>\n",
       "      <td>52.016667</td>\n",
       "    </tr>\n",
       "    <tr>\n",
       "      <th>75%</th>\n",
       "      <td>298.858333</td>\n",
       "    </tr>\n",
       "    <tr>\n",
       "      <th>max</th>\n",
       "      <td>10727.466667</td>\n",
       "    </tr>\n",
       "  </tbody>\n",
       "</table>\n",
       "</div>"
      ],
      "text/plain": [
       "       average_trips\n",
       "count      94.000000\n",
       "mean      599.953728\n",
       "std      1714.591098\n",
       "min         1.800000\n",
       "25%        14.266667\n",
       "50%        52.016667\n",
       "75%       298.858333\n",
       "max     10727.466667"
      ]
     },
     "execution_count": 12,
     "metadata": {},
     "output_type": "execute_result"
    }
   ],
   "source": [
    "df2.describe()"
   ]
  },
  {
   "cell_type": "markdown",
   "metadata": {},
   "source": [
    "El df2 tiene tambien 2 columnas \n",
    "  - `dropoff_location_name`: barrios de Chicago donde finalizaron los viajes.\n",
    "  -  `average_trips`: el promedio de viajes que terminaron en cada barrio en noviembre de 2017.\n",
    " \n",
    "El DataFrame tiene 94 indices de los cuales no contienen valores ausentes ni tampoco tiene duplicados."
   ]
  },
  {
   "cell_type": "markdown",
   "metadata": {},
   "source": [
    "### DataFrame 3: Clima y duracion de los viajes"
   ]
  },
  {
   "cell_type": "code",
   "execution_count": 13,
   "metadata": {},
   "outputs": [
    {
     "name": "stdout",
     "output_type": "stream",
     "text": [
      "<class 'pandas.core.frame.DataFrame'>\n",
      "RangeIndex: 1068 entries, 0 to 1067\n",
      "Data columns (total 3 columns):\n",
      " #   Column              Non-Null Count  Dtype  \n",
      "---  ------              --------------  -----  \n",
      " 0   start_ts            1068 non-null   object \n",
      " 1   weather_conditions  1068 non-null   object \n",
      " 2   duration_seconds    1068 non-null   float64\n",
      "dtypes: float64(1), object(2)\n",
      "memory usage: 25.2+ KB\n"
     ]
    }
   ],
   "source": [
    "# Analizar df3\n",
    "df3.info()"
   ]
  },
  {
   "cell_type": "code",
   "execution_count": 14,
   "metadata": {},
   "outputs": [
    {
     "data": {
      "text/html": [
       "<div>\n",
       "<style scoped>\n",
       "    .dataframe tbody tr th:only-of-type {\n",
       "        vertical-align: middle;\n",
       "    }\n",
       "\n",
       "    .dataframe tbody tr th {\n",
       "        vertical-align: top;\n",
       "    }\n",
       "\n",
       "    .dataframe thead th {\n",
       "        text-align: right;\n",
       "    }\n",
       "</style>\n",
       "<table border=\"1\" class=\"dataframe\">\n",
       "  <thead>\n",
       "    <tr style=\"text-align: right;\">\n",
       "      <th></th>\n",
       "      <th>start_ts</th>\n",
       "      <th>weather_conditions</th>\n",
       "      <th>duration_seconds</th>\n",
       "    </tr>\n",
       "  </thead>\n",
       "  <tbody>\n",
       "    <tr>\n",
       "      <th>62</th>\n",
       "      <td>2017-11-11 06:00:00</td>\n",
       "      <td>Good</td>\n",
       "      <td>1260.0</td>\n",
       "    </tr>\n",
       "    <tr>\n",
       "      <th>74</th>\n",
       "      <td>2017-11-11 08:00:00</td>\n",
       "      <td>Good</td>\n",
       "      <td>1380.0</td>\n",
       "    </tr>\n",
       "    <tr>\n",
       "      <th>76</th>\n",
       "      <td>2017-11-04 09:00:00</td>\n",
       "      <td>Good</td>\n",
       "      <td>1380.0</td>\n",
       "    </tr>\n",
       "    <tr>\n",
       "      <th>117</th>\n",
       "      <td>2017-11-11 07:00:00</td>\n",
       "      <td>Good</td>\n",
       "      <td>1380.0</td>\n",
       "    </tr>\n",
       "    <tr>\n",
       "      <th>119</th>\n",
       "      <td>2017-11-04 14:00:00</td>\n",
       "      <td>Good</td>\n",
       "      <td>3300.0</td>\n",
       "    </tr>\n",
       "    <tr>\n",
       "      <th>...</th>\n",
       "      <td>...</td>\n",
       "      <td>...</td>\n",
       "      <td>...</td>\n",
       "    </tr>\n",
       "    <tr>\n",
       "      <th>1054</th>\n",
       "      <td>2017-11-11 07:00:00</td>\n",
       "      <td>Good</td>\n",
       "      <td>1380.0</td>\n",
       "    </tr>\n",
       "    <tr>\n",
       "      <th>1058</th>\n",
       "      <td>2017-11-25 12:00:00</td>\n",
       "      <td>Good</td>\n",
       "      <td>1440.0</td>\n",
       "    </tr>\n",
       "    <tr>\n",
       "      <th>1062</th>\n",
       "      <td>2017-11-11 06:00:00</td>\n",
       "      <td>Good</td>\n",
       "      <td>1500.0</td>\n",
       "    </tr>\n",
       "    <tr>\n",
       "      <th>1065</th>\n",
       "      <td>2017-11-11 13:00:00</td>\n",
       "      <td>Good</td>\n",
       "      <td>2100.0</td>\n",
       "    </tr>\n",
       "    <tr>\n",
       "      <th>1066</th>\n",
       "      <td>2017-11-11 08:00:00</td>\n",
       "      <td>Good</td>\n",
       "      <td>1380.0</td>\n",
       "    </tr>\n",
       "  </tbody>\n",
       "</table>\n",
       "<p>197 rows × 3 columns</p>\n",
       "</div>"
      ],
      "text/plain": [
       "                 start_ts weather_conditions  duration_seconds\n",
       "62    2017-11-11 06:00:00               Good            1260.0\n",
       "74    2017-11-11 08:00:00               Good            1380.0\n",
       "76    2017-11-04 09:00:00               Good            1380.0\n",
       "117   2017-11-11 07:00:00               Good            1380.0\n",
       "119   2017-11-04 14:00:00               Good            3300.0\n",
       "...                   ...                ...               ...\n",
       "1054  2017-11-11 07:00:00               Good            1380.0\n",
       "1058  2017-11-25 12:00:00               Good            1440.0\n",
       "1062  2017-11-11 06:00:00               Good            1500.0\n",
       "1065  2017-11-11 13:00:00               Good            2100.0\n",
       "1066  2017-11-11 08:00:00               Good            1380.0\n",
       "\n",
       "[197 rows x 3 columns]"
      ]
     },
     "execution_count": 14,
     "metadata": {},
     "output_type": "execute_result"
    }
   ],
   "source": [
    "# Buscar valores duplicados en df3\n",
    "duplicates = df3.duplicated()\n",
    "df3[duplicates]"
   ]
  },
  {
   "cell_type": "code",
   "execution_count": 15,
   "metadata": {},
   "outputs": [
    {
     "data": {
      "text/plain": [
       "start_ts              0\n",
       "weather_conditions    0\n",
       "duration_seconds      0\n",
       "dtype: int64"
      ]
     },
     "execution_count": 15,
     "metadata": {},
     "output_type": "execute_result"
    }
   ],
   "source": [
    "# Buscar valores nulos en df3\n",
    "nulls = df3.isnull().sum()\n",
    "nulls"
   ]
  },
  {
   "cell_type": "code",
   "execution_count": 16,
   "metadata": {},
   "outputs": [
    {
     "data": {
      "text/html": [
       "<div>\n",
       "<style scoped>\n",
       "    .dataframe tbody tr th:only-of-type {\n",
       "        vertical-align: middle;\n",
       "    }\n",
       "\n",
       "    .dataframe tbody tr th {\n",
       "        vertical-align: top;\n",
       "    }\n",
       "\n",
       "    .dataframe thead th {\n",
       "        text-align: right;\n",
       "    }\n",
       "</style>\n",
       "<table border=\"1\" class=\"dataframe\">\n",
       "  <thead>\n",
       "    <tr style=\"text-align: right;\">\n",
       "      <th></th>\n",
       "      <th>start_ts</th>\n",
       "      <th>weather_conditions</th>\n",
       "      <th>duration_seconds</th>\n",
       "    </tr>\n",
       "  </thead>\n",
       "  <tbody>\n",
       "    <tr>\n",
       "      <th>0</th>\n",
       "      <td>2017-11-25 16:00:00</td>\n",
       "      <td>Good</td>\n",
       "      <td>2410.0</td>\n",
       "    </tr>\n",
       "    <tr>\n",
       "      <th>1</th>\n",
       "      <td>2017-11-25 14:00:00</td>\n",
       "      <td>Good</td>\n",
       "      <td>1920.0</td>\n",
       "    </tr>\n",
       "    <tr>\n",
       "      <th>2</th>\n",
       "      <td>2017-11-25 12:00:00</td>\n",
       "      <td>Good</td>\n",
       "      <td>1543.0</td>\n",
       "    </tr>\n",
       "    <tr>\n",
       "      <th>3</th>\n",
       "      <td>2017-11-04 10:00:00</td>\n",
       "      <td>Good</td>\n",
       "      <td>2512.0</td>\n",
       "    </tr>\n",
       "    <tr>\n",
       "      <th>4</th>\n",
       "      <td>2017-11-11 07:00:00</td>\n",
       "      <td>Good</td>\n",
       "      <td>1440.0</td>\n",
       "    </tr>\n",
       "    <tr>\n",
       "      <th>...</th>\n",
       "      <td>...</td>\n",
       "      <td>...</td>\n",
       "      <td>...</td>\n",
       "    </tr>\n",
       "    <tr>\n",
       "      <th>1063</th>\n",
       "      <td>2017-11-25 11:00:00</td>\n",
       "      <td>Good</td>\n",
       "      <td>0.0</td>\n",
       "    </tr>\n",
       "    <tr>\n",
       "      <th>1064</th>\n",
       "      <td>2017-11-11 10:00:00</td>\n",
       "      <td>Good</td>\n",
       "      <td>1318.0</td>\n",
       "    </tr>\n",
       "    <tr>\n",
       "      <th>1065</th>\n",
       "      <td>2017-11-11 13:00:00</td>\n",
       "      <td>Good</td>\n",
       "      <td>2100.0</td>\n",
       "    </tr>\n",
       "    <tr>\n",
       "      <th>1066</th>\n",
       "      <td>2017-11-11 08:00:00</td>\n",
       "      <td>Good</td>\n",
       "      <td>1380.0</td>\n",
       "    </tr>\n",
       "    <tr>\n",
       "      <th>1067</th>\n",
       "      <td>2017-11-04 16:00:00</td>\n",
       "      <td>Bad</td>\n",
       "      <td>2834.0</td>\n",
       "    </tr>\n",
       "  </tbody>\n",
       "</table>\n",
       "<p>1068 rows × 3 columns</p>\n",
       "</div>"
      ],
      "text/plain": [
       "                 start_ts weather_conditions  duration_seconds\n",
       "0     2017-11-25 16:00:00               Good            2410.0\n",
       "1     2017-11-25 14:00:00               Good            1920.0\n",
       "2     2017-11-25 12:00:00               Good            1543.0\n",
       "3     2017-11-04 10:00:00               Good            2512.0\n",
       "4     2017-11-11 07:00:00               Good            1440.0\n",
       "...                   ...                ...               ...\n",
       "1063  2017-11-25 11:00:00               Good               0.0\n",
       "1064  2017-11-11 10:00:00               Good            1318.0\n",
       "1065  2017-11-11 13:00:00               Good            2100.0\n",
       "1066  2017-11-11 08:00:00               Good            1380.0\n",
       "1067  2017-11-04 16:00:00                Bad            2834.0\n",
       "\n",
       "[1068 rows x 3 columns]"
      ]
     },
     "metadata": {},
     "output_type": "display_data"
    }
   ],
   "source": [
    "# Estudiar los datos que contienen df3\n",
    "display(df3)\n"
   ]
  },
  {
   "cell_type": "code",
   "execution_count": 17,
   "metadata": {},
   "outputs": [
    {
     "data": {
      "text/html": [
       "<div>\n",
       "<style scoped>\n",
       "    .dataframe tbody tr th:only-of-type {\n",
       "        vertical-align: middle;\n",
       "    }\n",
       "\n",
       "    .dataframe tbody tr th {\n",
       "        vertical-align: top;\n",
       "    }\n",
       "\n",
       "    .dataframe thead th {\n",
       "        text-align: right;\n",
       "    }\n",
       "</style>\n",
       "<table border=\"1\" class=\"dataframe\">\n",
       "  <thead>\n",
       "    <tr style=\"text-align: right;\">\n",
       "      <th></th>\n",
       "      <th>duration_seconds</th>\n",
       "    </tr>\n",
       "  </thead>\n",
       "  <tbody>\n",
       "    <tr>\n",
       "      <th>count</th>\n",
       "      <td>1068.000000</td>\n",
       "    </tr>\n",
       "    <tr>\n",
       "      <th>mean</th>\n",
       "      <td>2071.731273</td>\n",
       "    </tr>\n",
       "    <tr>\n",
       "      <th>std</th>\n",
       "      <td>769.461125</td>\n",
       "    </tr>\n",
       "    <tr>\n",
       "      <th>min</th>\n",
       "      <td>0.000000</td>\n",
       "    </tr>\n",
       "    <tr>\n",
       "      <th>25%</th>\n",
       "      <td>1438.250000</td>\n",
       "    </tr>\n",
       "    <tr>\n",
       "      <th>50%</th>\n",
       "      <td>1980.000000</td>\n",
       "    </tr>\n",
       "    <tr>\n",
       "      <th>75%</th>\n",
       "      <td>2580.000000</td>\n",
       "    </tr>\n",
       "    <tr>\n",
       "      <th>max</th>\n",
       "      <td>7440.000000</td>\n",
       "    </tr>\n",
       "  </tbody>\n",
       "</table>\n",
       "</div>"
      ],
      "text/plain": [
       "       duration_seconds\n",
       "count       1068.000000\n",
       "mean        2071.731273\n",
       "std          769.461125\n",
       "min            0.000000\n",
       "25%         1438.250000\n",
       "50%         1980.000000\n",
       "75%         2580.000000\n",
       "max         7440.000000"
      ]
     },
     "execution_count": 17,
     "metadata": {},
     "output_type": "execute_result"
    }
   ],
   "source": [
    "df3.describe()"
   ]
  },
  {
   "cell_type": "markdown",
   "metadata": {},
   "source": [
    "El df3 contiene 3 columnas \n",
    "  - `start_ts`: fecha y hora de la recogida.\n",
    "  -  `weather_conditions`: condiciones climáticas en el momento en el que comenzó el viaje.\n",
    "  -  `duration_seconds`: duración del viaje en segundos.\n",
    " \n",
    "El DataFrame tiene 94 indices de los cuales no contienen valores; aunque tiene valoes duplicados esto se debe a que son varias compañias de taxis por lo que estos pudieron haber hecho viajes el mismo dia a la misma hora que otra compañia de taxis"
   ]
  },
  {
   "cell_type": "markdown",
   "metadata": {},
   "source": [
    "## Creacion del Top10 de los barrios con en el promedio mas alto en viajes"
   ]
  },
  {
   "cell_type": "code",
   "execution_count": 18,
   "metadata": {},
   "outputs": [
    {
     "data": {
      "text/html": [
       "<div>\n",
       "<style scoped>\n",
       "    .dataframe tbody tr th:only-of-type {\n",
       "        vertical-align: middle;\n",
       "    }\n",
       "\n",
       "    .dataframe tbody tr th {\n",
       "        vertical-align: top;\n",
       "    }\n",
       "\n",
       "    .dataframe thead th {\n",
       "        text-align: right;\n",
       "    }\n",
       "</style>\n",
       "<table border=\"1\" class=\"dataframe\">\n",
       "  <thead>\n",
       "    <tr style=\"text-align: right;\">\n",
       "      <th></th>\n",
       "      <th>dropoff_location_name</th>\n",
       "      <th>average_trips</th>\n",
       "    </tr>\n",
       "  </thead>\n",
       "  <tbody>\n",
       "    <tr>\n",
       "      <th>0</th>\n",
       "      <td>Loop</td>\n",
       "      <td>10727.466667</td>\n",
       "    </tr>\n",
       "    <tr>\n",
       "      <th>1</th>\n",
       "      <td>River North</td>\n",
       "      <td>9523.666667</td>\n",
       "    </tr>\n",
       "    <tr>\n",
       "      <th>2</th>\n",
       "      <td>Streeterville</td>\n",
       "      <td>6664.666667</td>\n",
       "    </tr>\n",
       "    <tr>\n",
       "      <th>3</th>\n",
       "      <td>West Loop</td>\n",
       "      <td>5163.666667</td>\n",
       "    </tr>\n",
       "    <tr>\n",
       "      <th>4</th>\n",
       "      <td>O'Hare</td>\n",
       "      <td>2546.900000</td>\n",
       "    </tr>\n",
       "    <tr>\n",
       "      <th>5</th>\n",
       "      <td>Lake View</td>\n",
       "      <td>2420.966667</td>\n",
       "    </tr>\n",
       "    <tr>\n",
       "      <th>6</th>\n",
       "      <td>Grant Park</td>\n",
       "      <td>2068.533333</td>\n",
       "    </tr>\n",
       "    <tr>\n",
       "      <th>7</th>\n",
       "      <td>Museum Campus</td>\n",
       "      <td>1510.000000</td>\n",
       "    </tr>\n",
       "    <tr>\n",
       "      <th>8</th>\n",
       "      <td>Gold Coast</td>\n",
       "      <td>1364.233333</td>\n",
       "    </tr>\n",
       "    <tr>\n",
       "      <th>9</th>\n",
       "      <td>Sheffield &amp; DePaul</td>\n",
       "      <td>1259.766667</td>\n",
       "    </tr>\n",
       "  </tbody>\n",
       "</table>\n",
       "</div>"
      ],
      "text/plain": [
       "  dropoff_location_name  average_trips\n",
       "0                  Loop   10727.466667\n",
       "1           River North    9523.666667\n",
       "2         Streeterville    6664.666667\n",
       "3             West Loop    5163.666667\n",
       "4                O'Hare    2546.900000\n",
       "5             Lake View    2420.966667\n",
       "6            Grant Park    2068.533333\n",
       "7         Museum Campus    1510.000000\n",
       "8            Gold Coast    1364.233333\n",
       "9    Sheffield & DePaul    1259.766667"
      ]
     },
     "metadata": {},
     "output_type": "display_data"
    }
   ],
   "source": [
    "# ordernar df2 por la columna 'average_trips'\n",
    "df2 = df2.sort_values(by='average_trips', ascending=False)\n",
    "top10 = df2.head(10)\n",
    "display(top10)\n"
   ]
  },
  {
   "cell_type": "markdown",
   "metadata": {},
   "source": [
    "La salida del código muestra que el barrio con el mayor promedio de viajes de taxi es \"Loop\" con un promedio de 10727.47 viajes, seguido de \"River North\" con un promedio de 9523.67 viajes, y así sucesivamente. Los otros barrios en el top 10 son \"Streeterville\", \"West Loop\", \"O'Hare\", \"Lake View\", \"Grant Park\", \"Museum Campus\", \"Gold Coast\" y \"Sheffield & DePaul\".\n",
    "\n",
    "En resumen, se utiliza el método sort_values para ordenar el DataFrame por la columna average_trips en orden descendente y luego se utiliza el método head para seleccionar los 10 primeros valores, lo que representa los barrios con el mayor promedio de viajes de taxi. El código muestra que \"Loop\" es el barrio con el mayor promedio de viajes de taxi, seguido de \"River North\" y otros barrios."
   ]
  },
  {
   "cell_type": "markdown",
   "metadata": {},
   "source": [
    "## Top25 de las compañias de taxis con mayor numero de viajes"
   ]
  },
  {
   "cell_type": "code",
   "execution_count": 19,
   "metadata": {},
   "outputs": [
    {
     "data": {
      "text/html": [
       "<div>\n",
       "<style scoped>\n",
       "    .dataframe tbody tr th:only-of-type {\n",
       "        vertical-align: middle;\n",
       "    }\n",
       "\n",
       "    .dataframe tbody tr th {\n",
       "        vertical-align: top;\n",
       "    }\n",
       "\n",
       "    .dataframe thead th {\n",
       "        text-align: right;\n",
       "    }\n",
       "</style>\n",
       "<table border=\"1\" class=\"dataframe\">\n",
       "  <thead>\n",
       "    <tr style=\"text-align: right;\">\n",
       "      <th></th>\n",
       "      <th>company_name</th>\n",
       "      <th>trips_amount</th>\n",
       "    </tr>\n",
       "  </thead>\n",
       "  <tbody>\n",
       "    <tr>\n",
       "      <th>0</th>\n",
       "      <td>Flash Cab</td>\n",
       "      <td>19558</td>\n",
       "    </tr>\n",
       "    <tr>\n",
       "      <th>1</th>\n",
       "      <td>Taxi Affiliation Services</td>\n",
       "      <td>11422</td>\n",
       "    </tr>\n",
       "    <tr>\n",
       "      <th>2</th>\n",
       "      <td>Medallion Leasing</td>\n",
       "      <td>10367</td>\n",
       "    </tr>\n",
       "    <tr>\n",
       "      <th>3</th>\n",
       "      <td>Yellow Cab</td>\n",
       "      <td>9888</td>\n",
       "    </tr>\n",
       "    <tr>\n",
       "      <th>4</th>\n",
       "      <td>Taxi Affiliation Service Yellow</td>\n",
       "      <td>9299</td>\n",
       "    </tr>\n",
       "    <tr>\n",
       "      <th>5</th>\n",
       "      <td>Chicago Carriage Cab Corp</td>\n",
       "      <td>9181</td>\n",
       "    </tr>\n",
       "    <tr>\n",
       "      <th>6</th>\n",
       "      <td>City Service</td>\n",
       "      <td>8448</td>\n",
       "    </tr>\n",
       "    <tr>\n",
       "      <th>7</th>\n",
       "      <td>Sun Taxi</td>\n",
       "      <td>7701</td>\n",
       "    </tr>\n",
       "    <tr>\n",
       "      <th>8</th>\n",
       "      <td>Star North Management LLC</td>\n",
       "      <td>7455</td>\n",
       "    </tr>\n",
       "    <tr>\n",
       "      <th>9</th>\n",
       "      <td>Blue Ribbon Taxi Association Inc.</td>\n",
       "      <td>5953</td>\n",
       "    </tr>\n",
       "    <tr>\n",
       "      <th>10</th>\n",
       "      <td>Choice Taxi Association</td>\n",
       "      <td>5015</td>\n",
       "    </tr>\n",
       "    <tr>\n",
       "      <th>11</th>\n",
       "      <td>Globe Taxi</td>\n",
       "      <td>4383</td>\n",
       "    </tr>\n",
       "    <tr>\n",
       "      <th>12</th>\n",
       "      <td>Dispatch Taxi Affiliation</td>\n",
       "      <td>3355</td>\n",
       "    </tr>\n",
       "    <tr>\n",
       "      <th>13</th>\n",
       "      <td>Nova Taxi Affiliation Llc</td>\n",
       "      <td>3175</td>\n",
       "    </tr>\n",
       "    <tr>\n",
       "      <th>14</th>\n",
       "      <td>Patriot Taxi Dba Peace Taxi Association</td>\n",
       "      <td>2235</td>\n",
       "    </tr>\n",
       "    <tr>\n",
       "      <th>15</th>\n",
       "      <td>Checker Taxi Affiliation</td>\n",
       "      <td>2216</td>\n",
       "    </tr>\n",
       "    <tr>\n",
       "      <th>16</th>\n",
       "      <td>Blue Diamond</td>\n",
       "      <td>2070</td>\n",
       "    </tr>\n",
       "    <tr>\n",
       "      <th>17</th>\n",
       "      <td>Chicago Medallion Management</td>\n",
       "      <td>1955</td>\n",
       "    </tr>\n",
       "    <tr>\n",
       "      <th>18</th>\n",
       "      <td>24 Seven Taxi</td>\n",
       "      <td>1775</td>\n",
       "    </tr>\n",
       "    <tr>\n",
       "      <th>19</th>\n",
       "      <td>Chicago Medallion Leasing INC</td>\n",
       "      <td>1607</td>\n",
       "    </tr>\n",
       "    <tr>\n",
       "      <th>20</th>\n",
       "      <td>Checker Taxi</td>\n",
       "      <td>1486</td>\n",
       "    </tr>\n",
       "    <tr>\n",
       "      <th>21</th>\n",
       "      <td>American United</td>\n",
       "      <td>1404</td>\n",
       "    </tr>\n",
       "    <tr>\n",
       "      <th>22</th>\n",
       "      <td>Chicago Independents</td>\n",
       "      <td>1296</td>\n",
       "    </tr>\n",
       "    <tr>\n",
       "      <th>23</th>\n",
       "      <td>KOAM Taxi Association</td>\n",
       "      <td>1259</td>\n",
       "    </tr>\n",
       "    <tr>\n",
       "      <th>24</th>\n",
       "      <td>Chicago Taxicab</td>\n",
       "      <td>1014</td>\n",
       "    </tr>\n",
       "  </tbody>\n",
       "</table>\n",
       "</div>"
      ],
      "text/plain": [
       "                               company_name  trips_amount\n",
       "0                                 Flash Cab         19558\n",
       "1                 Taxi Affiliation Services         11422\n",
       "2                         Medallion Leasing         10367\n",
       "3                                Yellow Cab          9888\n",
       "4           Taxi Affiliation Service Yellow          9299\n",
       "5                 Chicago Carriage Cab Corp          9181\n",
       "6                              City Service          8448\n",
       "7                                  Sun Taxi          7701\n",
       "8                 Star North Management LLC          7455\n",
       "9         Blue Ribbon Taxi Association Inc.          5953\n",
       "10                  Choice Taxi Association          5015\n",
       "11                               Globe Taxi          4383\n",
       "12                Dispatch Taxi Affiliation          3355\n",
       "13                Nova Taxi Affiliation Llc          3175\n",
       "14  Patriot Taxi Dba Peace Taxi Association          2235\n",
       "15                 Checker Taxi Affiliation          2216\n",
       "16                             Blue Diamond          2070\n",
       "17             Chicago Medallion Management          1955\n",
       "18                            24 Seven Taxi          1775\n",
       "19            Chicago Medallion Leasing INC          1607\n",
       "20                             Checker Taxi          1486\n",
       "21                          American United          1404\n",
       "22                     Chicago Independents          1296\n",
       "23                    KOAM Taxi Association          1259\n",
       "24                          Chicago Taxicab          1014"
      ]
     },
     "metadata": {},
     "output_type": "display_data"
    }
   ],
   "source": [
    "# Las 25 compañias de taxis con mayor número de viajes\n",
    "df1 = df1.sort_values(by='trips_amount', ascending=False)\n",
    "top25 = df1.head(25)\n",
    "display(top25)\n"
   ]
  },
  {
   "cell_type": "markdown",
   "metadata": {},
   "source": [
    "Se utiliza el método `sort_values` para organizar el DataFrame de manera descendente basándose en la cantidad de viajes (`trips_amount`). Luego, con el método `head`, se seleccionan las primeras 25 filas, que corresponden a las **25 compañías de taxis con el mayor número de viajes** en la ciudad de Chicago. La ejecución del código revela que **\"Flash Cab\"** lidera la lista en cuanto a viajes realizados, seguida por **\"Taxi Affiliation Services\"** y otras compañías que completan el top 25.\n",
    "\n",
    "Es **importante destacar** que solo se han seleccionado las 25 compañías con más viajes para facilitar la creación de una gráfica posterior. Esto se debe a que existían demasiadas compañías para representarlas de manera efectiva en una única gráfica."
   ]
  },
  {
   "cell_type": "markdown",
   "metadata": {},
   "source": [
    "## Creacion de graficas de barras"
   ]
  },
  {
   "cell_type": "markdown",
   "metadata": {},
   "source": [
    "### Grafica de barras del Top25 de compañias de taxis con mas viajes"
   ]
  },
  {
   "cell_type": "code",
   "execution_count": 20,
   "metadata": {},
   "outputs": [
    {
     "data": {
      "image/png": "[encoded data removed]",
      "text/plain": [
       "<Figure size 1000x500 with 1 Axes>"
      ]
     },
     "metadata": {},
     "output_type": "display_data"
    }
   ],
   "source": [
    "# crear una grafico de barras del top25 de compañias de taxis con mayor número de viajes\n",
    "top25.plot(kind='bar', x='company_name', y='trips_amount', figsize=(10, 5))\n",
    "\n",
    "colors = ['yellow' if i % 2 == 0 else 'darkslategrey' for i in range(len(top25))]\n",
    "\n",
    "plt.rcParams.update({'axes.facecolor': 'lightgray'})\n",
    "plt.bar(top25['company_name'], top25['trips_amount'], color=colors)\n",
    "plt.title('Cantidad de viajes por compañía de taxis en Chivago')\n",
    "plt.xlabel('Compañía')\n",
    "plt.ylabel('Cantidad de viajes')\n",
    "plt.xticks(fontsize=8)\n",
    "plt.legend().set_visible(False)\n",
    "\n",
    "plt.show()\n"
   ]
  },
  {
   "cell_type": "markdown",
   "metadata": {},
   "source": [
    "El grafico de barras nos muestra que la compañía de taxis con el **mayor número de viajes** es **\"Flash Cab\"** con un total de **19,558 viajes**. A continuación, se encuentra **\"Taxi Affiliation Services\"** con **11,422 viajes**. La lista continúa con otras compañías destacadas en el top 25, como **\"Medallion Leasin\"**, **\"Yellow Cab\"**, y **\"Taxi Affiliation Service Yellow\"**, entre otras.\n",
    "\n",
    "Por otro lado, las compañías que ocupan las **últimas posiciones en la lista**, y que por lo tanto realizan la **menor cantidad de viajes**, son **\"Chicago Taxicab\"** y **\"KOAM Taxi Association\"**."
   ]
  },
  {
   "cell_type": "markdown",
   "metadata": {},
   "source": [
    "### Grafico de barras del Top10 de barrios de Chicago"
   ]
  },
  {
   "cell_type": "code",
   "execution_count": 21,
   "metadata": {},
   "outputs": [
    {
     "data": {
      "image/png": "[encoded data removed]",
      "text/plain": [
       "<Figure size 1000x500 with 1 Axes>"
      ]
     },
     "metadata": {},
     "output_type": "display_data"
    }
   ],
   "source": [
    "#crear grafico de barras del top10 de barrios con mayor numero de finalizacion de viajes\n",
    "top10.plot(kind='bar', x='dropoff_location_name', y='average_trips', figsize=(10, 5))\n",
    "\n",
    "colors = ['yellow' if i % 2 == 0 else 'darkslategrey' for i in range(len(top10))]\n",
    "plt.rcParams.update({'axes.facecolor': 'lightgray'})\n",
    "plt.bar(top10['dropoff_location_name'], top10['average_trips'], color=colors)\n",
    "plt.title('Cantidad de viajes por barrio')\n",
    "plt.xlabel('Barrio')\n",
    "plt.ylabel('Cantidad de viajes')\n",
    "plt.xticks(fontsize=8)\n",
    "plt.legend().set_visible(False)\n",
    "\n",
    "plt.show()"
   ]
  },
  {
   "cell_type": "markdown",
   "metadata": {},
   "source": [
    "El **barrio con más viajes** es **\"Loop\"**, seguido de **\"River North\"** y **\"Streeterville\"**. Estos barrios se encuentran en el **centro de la ciudad**, donde se concentran una gran cantidad de empresas, lugares de interés turístico y actividades sociales.\n",
    "\n",
    "Por otro lado, los **barrios con menos viajes** son **\"Sheffield & DePaul\"**, **\"Gold Coast\"** y **\"Museum Campus\"**. Estos barrios se encuentran en áreas más periféricas de la ciudad, lo que puede explicar la menor cantidad de viajes.\n",
    "\n",
    "En general, se puede observar una **tendencia clara**: la cantidad de viajes disminuye a medida que se alejan del centro de la ciudad. Esto se debe probablemente a la mayor concentración de actividades y lugares de interés en el centro, lo que atrae a un mayor número de visitantes."
   ]
  },
  {
   "cell_type": "markdown",
   "metadata": {},
   "source": [
    "## Hipotesis\n",
    "\n",
    "  - Hipotesis nula (H0): La duración promedio de los viajes desde el Loop hasta el Aeropuerto Internacional O'Hare cambia los dias lluviosos.\n",
    "  - Hipotesis alternativa (H1): La duración promedio de los viajes desde el Loop hasta el Aeropuerto Internacional O'Hare no cambia los dias lluviosos."
   ]
  },
  {
   "cell_type": "markdown",
   "metadata": {},
   "source": [
    "### Hipotesis t student"
   ]
  },
  {
   "cell_type": "code",
   "execution_count": 22,
   "metadata": {},
   "outputs": [
    {
     "name": "stdout",
     "output_type": "stream",
     "text": [
      "p-value: 6.517970327099473e-12\n",
      "Rechazamos la hipótesis nula\n"
     ]
    }
   ],
   "source": [
    "# Prueba de hipótesis t student\n",
    "\n",
    "# Crear dos muestras, una para los dias lluviosos y otra para los dias no lluviosos.\n",
    "rainy_days = df3.query('weather_conditions == \"Bad\"')['duration_seconds']\n",
    "non_rainy_days = df3.query('weather_conditions == \"Good\"')['duration_seconds']\n",
    "\n",
    "# Realizar la prueba de hipótesis\n",
    "alpha = 0.05\n",
    "results = st.ttest_ind(rainy_days, non_rainy_days, equal_var=True)\n",
    "print('p-value:', results.pvalue)\n",
    "\n",
    "if results.pvalue < alpha:\n",
    "    print(\"Rechazamos la hipótesis nula\")\n",
    "else:\n",
    "    print(\"No podemos rechazar la hipótesis nula\")"
   ]
  },
  {
   "cell_type": "markdown",
   "metadata": {},
   "source": [
    "### Hipotesis prueba levene"
   ]
  },
  {
   "cell_type": "code",
   "execution_count": 23,
   "metadata": {},
   "outputs": [
    {
     "name": "stdout",
     "output_type": "stream",
     "text": [
      "Prueba de hipótesis Levene\n",
      "Estadístico de prueba: 0.38853489683656073\n",
      "Valor p: 0.5332038671974493\n",
      "Las varianzas son iguales\n"
     ]
    }
   ],
   "source": [
    "# Prueba de hipótesis levene\n",
    "\n",
    "# Crear dos muestras, una para los dias lluviosos y otra para los dias no lluviosos.\n",
    "rainy_days = df3.query('weather_conditions == \"Bad\"')['duration_seconds']\n",
    "non_rainy_days = df3.query('weather_conditions == \"Good\"')['duration_seconds']\n",
    "\n",
    "# Realizar la prueba de hipótesis levene para comprobar la igualdad de varianzas\n",
    "alpha = 0.05\n",
    "results = st.levene(rainy_days, non_rainy_days)\n",
    "print('Prueba de hipótesis Levene')\n",
    "print('Estadístico de prueba:', results.statistic)\n",
    "print('Valor p:', results.pvalue)\n",
    "if results.pvalue < alpha:\n",
    "    print('Las varianzas son diferentes')\n",
    "else:\n",
    "    print('Las varianzas son iguales')"
   ]
  },
  {
   "cell_type": "markdown",
   "metadata": {},
   "source": [
    "\n",
    "## Análisis de la Duración Promedio de Viajes en Días Lluviosos\n",
    "\n",
    "En este análisis, se realizó una prueba de hipótesis para determinar si **la duración promedio de los viajes desde el Loop hasta el Aeropuerto Internacional O'Hare cambia los días lluviosos**."
   ]
  },
  {
   "cell_type": "markdown",
   "metadata": {},
   "source": [
    "### Hipótesis\n",
    "\n",
    "- **Hipótesis nula (H0)**: La duración promedio de los viajes **sí cambia** los días lluviosos.\n",
    "- **Hipótesis alternativa (H1)**: La duración promedio de los viajes **no cambia** los días lluviosos.\n",
    "\n",
    "### Método\n",
    "\n",
    "Para probar estas hipótesis, se crearon dos muestras: **una para los días lluviosos** y **otra para los días no lluviosos**. Luego, se realizó una **prueba t de Student** para comparar las medias de estas dos muestras.\n",
    "\n",
    "### Resultados\n",
    "\n",
    "El resultado de la prueba t fue un **p-value de 6.738994326108734e-12**, que es significativamente menor que el nivel de significación establecido (**alpha = 0.05**).\n",
    "\n",
    "### Rechazo de la Hipótesis Nula\n",
    "\n",
    "Debido a que el **p-value es menor que alpha**, se **rechaza la hipótesis nula (H0)**. Esto significa que hay evidencia estadística suficiente para concluir que **la duración promedio de los viajes desde el Loop hasta el Aeropuerto Internacional O'Hare no cambia los días lluviosos**, lo que apoya la **hipótesis alternativa (H1)**.\n",
    "\n",
    "### Preguntas\n",
    "\n",
    "1. **¿Cómo se plantearon las hipótesis nula y alternativa?**\n",
    "\n",
    "   Las hipótesis se plantearon de la siguiente manera:\n",
    "   - **Hipótesis nula (H0)**: La duración promedio de los viajes desde el Loop hasta el Aeropuerto Internacional O'Hare **sí cambia** los días lluviosos.\n",
    "   - **Hipótesis alternativa (H1)**: La duración promedio de los viajes desde el Loop hasta el Aeropuerto Internacional O'Hare **no cambia** los días lluviosos.\n",
    "\n",
    "2. **Criterio utilizado para probar las hipótesis y por qué**\n",
    "\n",
    "   Se utilizó la **prueba t de Student** para comparar las medias de las dos muestras (días lluviosos y días no lluviosos). Se eligió este criterio porque:\n",
    "   - La **prueba t de Student** es adecuada para comparar las medias de dos muestras independientes.\n",
    "   - La variable de interés (duración promedio de los viajes) se asume que sigue una distribución normal.\n",
    "   - La **prueba t de Student** es robusta y ampliamente utilizada en estadística para comparar medias.\n",
    "\n",
    "   Además, se estableció un nivel de significación (**alpha = 0.05**) para determinar si el resultado de la prueba es estadísticamente significativo."
   ]
  }
 ],
 "metadata": {
  "ExecuteTimeLog": [
   {
    "duration": 15,
    "start_time": "2024-05-31T21:52:06.816Z"
   },
   {
    "duration": 7,
    "start_time": "2024-05-31T21:53:21.235Z"
   },
   {
    "duration": 321,
    "start_time": "2024-06-13T02:33:28.447Z"
   },
   {
    "duration": 4934,
    "start_time": "2024-06-13T02:33:33.556Z"
   },
   {
    "duration": 30,
    "start_time": "2024-06-13T02:33:40.996Z"
   },
   {
    "duration": 1244,
    "start_time": "2024-06-13T02:54:36.929Z"
   },
   {
    "duration": 21,
    "start_time": "2024-06-13T02:54:38.177Z"
   },
   {
    "duration": 28,
    "start_time": "2024-06-13T02:54:38.201Z"
   },
   {
    "duration": 13,
    "start_time": "2024-06-13T02:54:38.234Z"
   },
   {
    "duration": 9,
    "start_time": "2024-06-13T02:54:38.250Z"
   },
   {
    "duration": 16,
    "start_time": "2024-06-13T02:54:38.262Z"
   },
   {
    "duration": 17,
    "start_time": "2024-06-13T02:54:38.324Z"
   },
   {
    "duration": 14,
    "start_time": "2024-06-13T02:54:38.345Z"
   },
   {
    "duration": 10,
    "start_time": "2024-06-13T02:54:38.362Z"
   },
   {
    "duration": 44,
    "start_time": "2024-06-13T02:54:38.378Z"
   },
   {
    "duration": 14,
    "start_time": "2024-06-13T02:54:38.425Z"
   },
   {
    "duration": 16,
    "start_time": "2024-06-13T02:54:38.441Z"
   },
   {
    "duration": 17,
    "start_time": "2024-06-13T02:54:38.460Z"
   },
   {
    "duration": 20,
    "start_time": "2024-06-13T02:54:38.523Z"
   },
   {
    "duration": 11,
    "start_time": "2024-06-13T02:54:38.546Z"
   },
   {
    "duration": 69,
    "start_time": "2024-06-13T02:54:38.560Z"
   },
   {
    "duration": 17,
    "start_time": "2024-06-13T02:54:38.632Z"
   },
   {
    "duration": 14,
    "start_time": "2024-06-13T02:54:38.652Z"
   },
   {
    "duration": 53,
    "start_time": "2024-06-13T02:54:38.670Z"
   },
   {
    "duration": 585,
    "start_time": "2024-06-13T02:54:38.726Z"
   },
   {
    "duration": 308,
    "start_time": "2024-06-13T02:54:39.315Z"
   },
   {
    "duration": 18,
    "start_time": "2024-06-13T02:54:39.626Z"
   },
   {
    "duration": 13,
    "start_time": "2024-06-13T03:00:09.852Z"
   },
   {
    "duration": 13,
    "start_time": "2024-06-13T03:00:14.363Z"
   },
   {
    "duration": 4,
    "start_time": "2024-06-14T05:32:21.234Z"
   },
   {
    "duration": 4784,
    "start_time": "2024-06-14T05:46:14.640Z"
   },
   {
    "duration": 30,
    "start_time": "2024-06-14T05:46:19.428Z"
   },
   {
    "duration": 15,
    "start_time": "2024-06-14T05:46:19.460Z"
   },
   {
    "duration": 14,
    "start_time": "2024-06-14T05:46:19.479Z"
   },
   {
    "duration": 32,
    "start_time": "2024-06-14T05:46:19.498Z"
   },
   {
    "duration": 13,
    "start_time": "2024-06-14T05:46:19.533Z"
   },
   {
    "duration": 17,
    "start_time": "2024-06-14T05:46:19.549Z"
   },
   {
    "duration": 53,
    "start_time": "2024-06-14T05:46:19.570Z"
   },
   {
    "duration": 10,
    "start_time": "2024-06-14T05:46:19.626Z"
   },
   {
    "duration": 9,
    "start_time": "2024-06-14T05:46:19.639Z"
   },
   {
    "duration": 17,
    "start_time": "2024-06-14T05:46:19.652Z"
   },
   {
    "duration": 53,
    "start_time": "2024-06-14T05:46:19.671Z"
   },
   {
    "duration": 16,
    "start_time": "2024-06-14T05:46:19.728Z"
   },
   {
    "duration": 17,
    "start_time": "2024-06-14T05:46:19.750Z"
   },
   {
    "duration": 54,
    "start_time": "2024-06-14T05:46:19.770Z"
   },
   {
    "duration": 17,
    "start_time": "2024-06-14T05:46:19.827Z"
   },
   {
    "duration": 15,
    "start_time": "2024-06-14T05:46:19.848Z"
   },
   {
    "duration": 12,
    "start_time": "2024-06-14T05:46:19.866Z"
   },
   {
    "duration": 18,
    "start_time": "2024-06-14T05:46:19.922Z"
   },
   {
    "duration": 589,
    "start_time": "2024-06-14T05:46:19.943Z"
   },
   {
    "duration": 291,
    "start_time": "2024-06-14T05:46:20.536Z"
   },
   {
    "duration": 13,
    "start_time": "2024-06-14T05:46:20.831Z"
   },
   {
    "duration": 13,
    "start_time": "2024-06-14T05:46:20.848Z"
   },
   {
    "duration": 1232,
    "start_time": "2024-06-14T06:26:37.662Z"
   },
   {
    "duration": 26,
    "start_time": "2024-06-14T06:26:38.899Z"
   },
   {
    "duration": 16,
    "start_time": "2024-06-14T06:26:38.928Z"
   },
   {
    "duration": 14,
    "start_time": "2024-06-14T06:26:38.950Z"
   },
   {
    "duration": 9,
    "start_time": "2024-06-14T06:26:38.968Z"
   },
   {
    "duration": 53,
    "start_time": "2024-06-14T06:26:38.981Z"
   },
   {
    "duration": 17,
    "start_time": "2024-06-14T06:26:39.037Z"
   },
   {
    "duration": 16,
    "start_time": "2024-06-14T06:26:39.057Z"
   },
   {
    "duration": 55,
    "start_time": "2024-06-14T06:26:39.077Z"
   },
   {
    "duration": 9,
    "start_time": "2024-06-14T06:26:39.139Z"
   },
   {
    "duration": 14,
    "start_time": "2024-06-14T06:26:39.152Z"
   },
   {
    "duration": 61,
    "start_time": "2024-06-14T06:26:39.170Z"
   },
   {
    "duration": 14,
    "start_time": "2024-06-14T06:26:39.235Z"
   },
   {
    "duration": 19,
    "start_time": "2024-06-14T06:26:39.253Z"
   },
   {
    "duration": 48,
    "start_time": "2024-06-14T06:26:39.275Z"
   },
   {
    "duration": 17,
    "start_time": "2024-06-14T06:26:39.327Z"
   },
   {
    "duration": 20,
    "start_time": "2024-06-14T06:26:39.347Z"
   },
   {
    "duration": 59,
    "start_time": "2024-06-14T06:26:39.371Z"
   },
   {
    "duration": 15,
    "start_time": "2024-06-14T06:26:39.434Z"
   },
   {
    "duration": 659,
    "start_time": "2024-06-14T06:26:39.453Z"
   },
   {
    "duration": 321,
    "start_time": "2024-06-14T06:26:40.115Z"
   },
   {
    "duration": 15,
    "start_time": "2024-06-14T06:26:40.440Z"
   },
   {
    "duration": 15,
    "start_time": "2024-06-14T06:26:40.458Z"
   },
   {
    "duration": 4946,
    "start_time": "2024-06-14T18:13:07.785Z"
   },
   {
    "duration": 30,
    "start_time": "2024-06-14T18:13:12.736Z"
   },
   {
    "duration": 15,
    "start_time": "2024-06-14T18:13:12.771Z"
   },
   {
    "duration": 14,
    "start_time": "2024-06-14T18:13:12.791Z"
   },
   {
    "duration": 10,
    "start_time": "2024-06-14T18:13:12.825Z"
   },
   {
    "duration": 14,
    "start_time": "2024-06-14T18:13:12.837Z"
   },
   {
    "duration": 16,
    "start_time": "2024-06-14T18:13:12.854Z"
   },
   {
    "duration": 59,
    "start_time": "2024-06-14T18:13:12.872Z"
   },
   {
    "duration": 11,
    "start_time": "2024-06-14T18:13:12.935Z"
   },
   {
    "duration": 9,
    "start_time": "2024-06-14T18:13:12.954Z"
   },
   {
    "duration": 17,
    "start_time": "2024-06-14T18:13:12.966Z"
   },
   {
    "duration": 52,
    "start_time": "2024-06-14T18:13:12.986Z"
   },
   {
    "duration": 15,
    "start_time": "2024-06-14T18:13:13.041Z"
   },
   {
    "duration": 17,
    "start_time": "2024-06-14T18:13:13.059Z"
   },
   {
    "duration": 50,
    "start_time": "2024-06-14T18:13:13.079Z"
   },
   {
    "duration": 16,
    "start_time": "2024-06-14T18:13:13.131Z"
   },
   {
    "duration": 16,
    "start_time": "2024-06-14T18:13:13.151Z"
   },
   {
    "duration": 56,
    "start_time": "2024-06-14T18:13:13.170Z"
   },
   {
    "duration": 13,
    "start_time": "2024-06-14T18:13:13.229Z"
   },
   {
    "duration": 558,
    "start_time": "2024-06-14T18:13:13.245Z"
   },
   {
    "duration": 298,
    "start_time": "2024-06-14T18:13:13.806Z"
   },
   {
    "duration": 22,
    "start_time": "2024-06-14T18:13:14.108Z"
   },
   {
    "duration": 13,
    "start_time": "2024-06-14T18:13:14.133Z"
   }
  ],
  "kernelspec": {
   "display_name": "Python 3 (ipykernel)",
   "language": "python",
   "name": "python3"
  },
  "language_info": {
   "codemirror_mode": {
    "name": "ipython",
    "version": 3
   },
   "file_extension": ".py",
   "mimetype": "text/x-python",
   "name": "python",
   "nbconvert_exporter": "python",
   "pygments_lexer": "ipython3",
   "version": "3.9.19"
  },
  "toc": {
   "base_numbering": 1,
   "nav_menu": {},
   "number_sections": true,
   "sideBar": true,
   "skip_h1_title": true,
   "title_cell": "Table of Contents",
   "title_sidebar": "Contents",
   "toc_cell": false,
   "toc_position": {
    "height": "calc(100% - 180px)",
    "left": "10px",
    "top": "150px",
    "width": "543.375px"
   },
   "toc_section_display": true,
   "toc_window_display": true
  }
 },
 "nbformat": 4,
 "nbformat_minor": 2
}
